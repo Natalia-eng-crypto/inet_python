{
 "cells": [
  {
   "cell_type": "markdown",
   "id": "35e049ee",
   "metadata": {},
   "source": [
    "# Lesson 01\n",
    "\n",
    "## Основы клиент-серверного взаимодействия. Парсинг API\n",
    "\n",
    "\n",
    "1. Посмотреть документацию к API GitHub, разобраться как вывести список репозиториев для конкретного пользователя, сохранить JSON-вывод в файле *.json."
   ]
  },
  {
   "cell_type": "code",
   "execution_count": 1,
   "id": "18d4cdcd",
   "metadata": {},
   "outputs": [],
   "source": [
    "import requests\n",
    "import json"
   ]
  },
  {
   "cell_type": "code",
   "execution_count": 2,
   "id": "af0755cd",
   "metadata": {},
   "outputs": [],
   "source": [
    "url = 'https://api.github.com/users/harrifik/repos'"
   ]
  },
  {
   "cell_type": "code",
   "execution_count": 3,
   "id": "7f1a41ff",
   "metadata": {},
   "outputs": [],
   "source": [
    "repos = requests.get(url)"
   ]
  },
  {
   "cell_type": "code",
   "execution_count": 4,
   "id": "75cb45aa",
   "metadata": {},
   "outputs": [],
   "source": [
    "with open('repos.json', 'w') as f:\n",
    "    json.dump(repos.json(), f)"
   ]
  },
  {
   "cell_type": "markdown",
   "id": "0216a44c",
   "metadata": {},
   "source": [
    "2. Изучить список открытых API. Найти среди них любое, требующее авторизацию (любого типа).Выполнить запросы к нему, пройдя авторизацию. Ответ сервера записать в файл.\n",
    "\n",
    "Используя сайт coinmarketcap.com получим котировки 10 певрых по капитализации криптовалют в $."
   ]
  },
  {
   "cell_type": "code",
   "execution_count": 5,
   "id": "388b6ad9",
   "metadata": {},
   "outputs": [],
   "source": [
    "url = 'https://pro-api.coinmarketcap.com/v1/cryptocurrency/listings/latest'"
   ]
  },
  {
   "cell_type": "code",
   "execution_count": 6,
   "id": "7c2281d0",
   "metadata": {},
   "outputs": [],
   "source": [
    "parameters = {\n",
    "  'start':'1',\n",
    "  'limit':'10',\n",
    "  'convert':'USD'\n",
    "}"
   ]
  },
  {
   "cell_type": "code",
   "execution_count": 7,
   "id": "c9e0bf82",
   "metadata": {},
   "outputs": [],
   "source": [
    "headers = {\n",
    "  'Accepts': 'application/json',\n",
    "  'X-CMC_PRO_API_KEY': '4907088a-9d97-4d69-ae9c-3dfe7bd087e3',\n",
    "}"
   ]
  },
  {
   "cell_type": "code",
   "execution_count": 8,
   "id": "48a57178",
   "metadata": {},
   "outputs": [],
   "source": [
    "response = requests.get(url, params=parameters, headers=headers)"
   ]
  },
  {
   "cell_type": "code",
   "execution_count": 9,
   "id": "93e43fd4",
   "metadata": {},
   "outputs": [],
   "source": [
    "with open('crypto.json', 'w') as f:\n",
    "    json.dump(response.json(), f)"
   ]
  }
 ],
 "metadata": {
  "kernelspec": {
   "display_name": "Python 3",
   "language": "python",
   "name": "python3"
  },
  "language_info": {
   "codemirror_mode": {
    "name": "ipython",
    "version": 3
   },
   "file_extension": ".py",
   "mimetype": "text/x-python",
   "name": "python",
   "nbconvert_exporter": "python",
   "pygments_lexer": "ipython3",
   "version": "3.8.8"
  }
 },
 "nbformat": 4,
 "nbformat_minor": 5
}
